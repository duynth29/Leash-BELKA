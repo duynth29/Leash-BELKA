{
 "cells": [
  {
   "cell_type": "code",
   "execution_count": 1,
   "metadata": {},
   "outputs": [],
   "source": [
    "import pandas as pd"
   ]
  },
  {
   "cell_type": "code",
   "execution_count": 2,
   "metadata": {},
   "outputs": [],
   "source": [
    "fold0 = pd.read_parquet('../result/20240811_0557/fold_0_epoch_50_model_submission.parquet')\n",
    "fold1 = pd.read_parquet('../result/20240811_0557/fold_1_epoch_50_model_submission.parquet')\n",
    "fold2 = pd.read_parquet('../result/20240811_0557/fold_2_epoch_50_model_submission.parquet')\n",
    "fold3 = pd.read_parquet('../result/20240811_0557/fold_3_epoch_48_model_submission.parquet')"
   ]
  },
  {
   "cell_type": "code",
   "execution_count": 7,
   "metadata": {},
   "outputs": [
    {
     "name": "stdout",
     "output_type": "stream",
     "text": [
      "                id  average_value\n",
      "0        295246830       0.005604\n",
      "1        295246831       0.013430\n",
      "2        295246832       0.000090\n",
      "3        295246833       0.009424\n",
      "4        295246834       0.010694\n",
      "...            ...            ...\n",
      "1674891  296921721       0.001000\n",
      "1674892  296921722       0.000491\n",
      "1674893  296921723       0.000053\n",
      "1674894  296921724       0.001315\n",
      "1674895  296921725       0.000003\n",
      "\n",
      "[1674896 rows x 2 columns]\n"
     ]
    }
   ],
   "source": [
    "folds = [fold0, fold1, fold2, fold3]\n",
    "# Initialize the merged DataFrame with the first fold\n",
    "merged_df = folds[0]\n",
    "\n",
    "# Merge all folds\n",
    "for fold in folds[1:]:\n",
    "    merged_df = merged_df.merge(fold, on='id', suffixes=('', '_'))\n",
    "\n",
    "# Compute the average for the overlapping columns\n",
    "value_columns = [col for col in merged_df.columns if col.startswith('binds')]\n",
    "merged_df['average_value'] = merged_df[value_columns].mean(axis=1)\n",
    "\n",
    "# Drop the individual value columns if needed\n",
    "merged_df = merged_df.drop(columns=value_columns)\n",
    "\n",
    "print(merged_df)"
   ]
  },
  {
   "cell_type": "code",
   "execution_count": 8,
   "metadata": {},
   "outputs": [],
   "source": [
    "merged_df.to_parquet('../result/20240811_0557/submission_fold0_3.parquet', index=False)\n"
   ]
  }
 ],
 "metadata": {
  "kernelspec": {
   "display_name": "BELKA",
   "language": "python",
   "name": "python3"
  },
  "language_info": {
   "codemirror_mode": {
    "name": "ipython",
    "version": 3
   },
   "file_extension": ".py",
   "mimetype": "text/x-python",
   "name": "python",
   "nbconvert_exporter": "python",
   "pygments_lexer": "ipython3",
   "version": "3.10.14"
  }
 },
 "nbformat": 4,
 "nbformat_minor": 2
}
